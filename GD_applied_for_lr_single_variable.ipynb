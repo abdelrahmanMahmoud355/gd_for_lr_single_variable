{
 "cells": [
  {
   "cell_type": "code",
   "execution_count": 39,
   "metadata": {},
   "outputs": [
    {
     "name": "stdout",
     "output_type": "stream",
     "text": [
      "iter 0\n",
      "Final theta0: 0.04\n",
      "Final theta1: 0.2\n",
      "iter 1\n",
      "Final theta0: 0.0716\n",
      "Final theta1: 0.35840000000000005\n",
      "iter 2\n",
      "Final theta0: 0.096548\n",
      "Final theta1: 0.48385600000000006\n",
      "iter 3\n",
      "Final theta0: 0.11622827999999999\n",
      "Final theta1: 0.5832228800000001\n",
      "iter 4\n",
      "Final theta0: 0.13173708199999998\n",
      "Final theta1: 0.6619291728000001\n",
      "iter 5\n",
      "Final theta0: 0.14394254426799996\n",
      "Final theta1: 0.7242738549600001\n",
      "iter 6\n",
      "Final theta0: 0.15353216462691996\n",
      "Final theta1: 0.7736613821972801\n",
      "iter 7\n",
      "Final theta0: 0.16105038769275956\n",
      "Final theta1: 0.8127878191727472\n",
      "iter 8\n",
      "Final theta0: 0.16692837104892208\n",
      "Final theta1: 0.8437882398304875\n",
      "iter 9\n",
      "Final theta0: 0.17150755774521337\n",
      "Final theta1: 0.868353457022433\n"
     ]
    }
   ],
   "source": [
    "\n",
    "\n",
    "\n",
    "    # Step 1: Initialize parameters and learning rate\n",
    "theta0 = 0  #  initialization for theta0\n",
    "theta1 = 0  #  initialization for theta1\n",
    "learning_rate = 0.01\n",
    "max_iterations = 10\n",
    "\n",
    "x= [1,2,3,4,5,6,7]\n",
    "y = [1,2,3,4,5,6,7]\n",
    "\n",
    "# Step 2: Define the prediction function h(theta)\n",
    "\n",
    "def hypothesis(theta0, theta1, x):\n",
    "        return theta0 + theta1 * x\n",
    "\n",
    "# Step 3: Define the cost function\n",
    "\n",
    "def compute_cost(theta0, theta1, x, y):\n",
    "        total_cost = 0\n",
    "        for i in range(len(x)):\n",
    "                h = hypothesis(theta0, theta1, x[i])\n",
    "                total_cost += (h - y[i]) ** 2\n",
    "        return total_cost / (2 * len(x))\n",
    "\n",
    "# Step 4: Calculate the gradients\n",
    "\n",
    "def compute_gradients(theta0, theta1, x, y):\n",
    "        grad_theta0 = 0\n",
    "        grad_theta1 = 0\n",
    "        for i in range(len(x)):\n",
    "            h = hypothesis(theta0, theta1, x[i])\n",
    "            grad_theta0 += (h - y[i])\n",
    "            grad_theta1 += (h - y[i]) * x[i]\n",
    "        grad_theta0 /= len(x)\n",
    "        grad_theta1 /= len(x)\n",
    "        return grad_theta0, grad_theta1\n",
    "\n",
    "# Step 5: Update the parameters\n",
    "\n",
    "\n",
    "def update_parameters(theta0, theta1, grad_theta0, grad_theta1, learning_rate):\n",
    "        new_theta0 = theta0 - learning_rate * grad_theta0\n",
    "        new_theta1 = theta1 - learning_rate * grad_theta1\n",
    "        return new_theta0, new_theta1\n",
    "\n",
    "\n",
    "# Step 6: Gradient Descent\n",
    "iteration = 0\n",
    "cost = compute_cost(theta0, theta1, x, y)\n",
    "while iteration < max_iterations :\n",
    "        print(\"iter\" , iteration)\n",
    "        grad_theta0, grad_theta1 = compute_gradients(theta0, theta1, x, y)\n",
    "        theta0, theta1 = update_parameters(\n",
    "            theta0, theta1, grad_theta0, grad_theta1, learning_rate)\n",
    "        cost = compute_cost(theta0, theta1, x, y)\n",
    "    \n",
    "\n",
    "# Print the final parameters\n",
    "        print(\"Final theta0:\", theta0)\n",
    "        print(\"Final theta1:\", theta1)\n",
    "        iteration += 1\n"
   ]
  },
  {
   "cell_type": "code",
   "execution_count": null,
   "metadata": {},
   "outputs": [],
   "source": []
  },
  {
   "cell_type": "code",
   "execution_count": null,
   "metadata": {},
   "outputs": [],
   "source": []
  }
 ],
 "metadata": {
  "kernelspec": {
   "display_name": "Python 3.8.5 ('base')",
   "language": "python",
   "name": "python3"
  },
  "language_info": {
   "codemirror_mode": {
    "name": "ipython",
    "version": 3
   },
   "file_extension": ".py",
   "mimetype": "text/x-python",
   "name": "python",
   "nbconvert_exporter": "python",
   "pygments_lexer": "ipython3",
   "version": "3.8.5"
  },
  "orig_nbformat": 4,
  "vscode": {
   "interpreter": {
    "hash": "12933f9724c962e3c6970c234a482e7d17d2b848e1d390ec0160a5236b8b248e"
   }
  }
 },
 "nbformat": 4,
 "nbformat_minor": 2
}
